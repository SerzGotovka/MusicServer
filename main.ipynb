{
 "cells": [
  {
   "cell_type": "markdown",
   "metadata": {},
   "source": [
    "# Выгрузить все данные в xlsx в папку data\n"
   ]
  },
  {
   "cell_type": "code",
   "execution_count": 4,
   "metadata": {},
   "outputs": [],
   "source": [
    "import pandas as pd\n",
    "import sqlite3\n",
    "\n",
    "with sqlite3.connect('chinook.db') as conn:\n",
    "\n",
    "    #! df_albums = pd.read_sql('select')\n",
    "\n",
    "    # Получаем названия всех таблиц\n",
    "    tables_query = \"SELECT name FROM sqlite_master WHERE type='table';\"\n",
    "    name_tables = pd.read_sql(tables_query, conn)\n",
    "    names_list = name_tables['name'].tolist()\n",
    "  \n",
    "    dataframes = {}\n",
    "\n",
    "    for name in names_list:\n",
    "        # Загружаем данные из таблицы и сохраняем в словаре\n",
    "        dataframes[name] = pd.read_sql(f'SELECT * FROM {name}', conn).to_excel(f'data/{name}.xlsx', index=False)\n",
    "        \n",
    "\n",
    "\n"
   ]
  },
  {
   "cell_type": "code",
   "execution_count": null,
   "metadata": {},
   "outputs": [],
   "source": []
  }
 ],
 "metadata": {
  "kernelspec": {
   "display_name": "venv",
   "language": "python",
   "name": "python3"
  },
  "language_info": {
   "codemirror_mode": {
    "name": "ipython",
    "version": 3
   },
   "file_extension": ".py",
   "mimetype": "text/x-python",
   "name": "python",
   "nbconvert_exporter": "python",
   "pygments_lexer": "ipython3",
   "version": "3.12.9"
  }
 },
 "nbformat": 4,
 "nbformat_minor": 2
}
