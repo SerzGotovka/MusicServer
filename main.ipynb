{
 "cells": [
  {
   "cell_type": "markdown",
   "metadata": {},
   "source": [
    "# Выгрузить все данные в xlsx в папку data\n"
   ]
  },
  {
   "cell_type": "code",
   "execution_count": null,
   "metadata": {},
   "outputs": [
    {
     "name": "stdout",
     "output_type": "stream",
     "text": [
      "     AlbumId                                              Title  ArtistId\n",
      "0          1              For Those About To Rock We Salute You         1\n",
      "1          2                                  Balls to the Wall         2\n",
      "2          3                                  Restless and Wild         2\n",
      "3          4                                  Let There Be Rock         1\n",
      "4          5                                           Big Ones         3\n",
      "..       ...                                                ...       ...\n",
      "342      343                             Respighi:Pines of Rome       226\n",
      "343      344  Schubert: The Late String Quartets & String Qu...       272\n",
      "344      345                                Monteverdi: L'Orfeo       273\n",
      "345      346                              Mozart: Chamber Music       274\n",
      "346      347  Koyaanisqatsi (Soundtrack from the Motion Pict...       275\n",
      "\n",
      "[347 rows x 3 columns]\n"
     ]
    }
   ],
   "source": [
    "from utils.read import read_db\n",
    "\n",
    "\n",
    "\n",
    "\n",
    "\n",
    "\n",
    "\n",
    "\n",
    "if __name__ == 'main':\n",
    "    read_db('chinook.db')\n",
    "        \n",
    "\n",
    "\n"
   ]
  },
  {
   "cell_type": "code",
   "execution_count": null,
   "metadata": {},
   "outputs": [],
   "source": []
  }
 ],
 "metadata": {
  "kernelspec": {
   "display_name": "venv",
   "language": "python",
   "name": "python3"
  },
  "language_info": {
   "codemirror_mode": {
    "name": "ipython",
    "version": 3
   },
   "file_extension": ".py",
   "mimetype": "text/x-python",
   "name": "python",
   "nbconvert_exporter": "python",
   "pygments_lexer": "ipython3",
   "version": "3.12.9"
  }
 },
 "nbformat": 4,
 "nbformat_minor": 2
}
